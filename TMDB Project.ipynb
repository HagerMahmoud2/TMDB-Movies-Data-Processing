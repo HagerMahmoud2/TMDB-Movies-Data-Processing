{
 "cells": [
  {
   "cell_type": "code",
   "execution_count": 1,
   "id": "4fac44ea-91cd-4def-9d45-83d724771fcb",
   "metadata": {},
   "outputs": [],
   "source": [
    "from pyspark.sql import SparkSession"
   ]
  },
  {
   "cell_type": "code",
   "execution_count": 2,
   "id": "1a4ec1eb-28db-40b4-9809-0cf7258f6525",
   "metadata": {},
   "outputs": [
    {
     "name": "stderr",
     "output_type": "stream",
     "text": [
      "24/05/06 11:20:58 WARN SparkSession: Using an existing Spark session; only runtime SQL configurations will take effect.\n"
     ]
    }
   ],
   "source": [
    "spark=SparkSession.builder.appName(\"TMDB Project\").getOrCreate()"
   ]
  },
  {
   "cell_type": "code",
   "execution_count": 3,
   "id": "9174cbe9-3a94-4496-9698-f76b0ce66f22",
   "metadata": {},
   "outputs": [],
   "source": [
    "from pyspark.sql.types import StructType,StructField,StringType,IntegerType,FloatType,DateType,ArrayType"
   ]
  },
  {
   "cell_type": "code",
   "execution_count": 4,
   "id": "d8af5e2f-d6de-4204-8f63-35f21539bb46",
   "metadata": {},
   "outputs": [],
   "source": [
    "TMDB_Schema=StructType([StructField(\"budget\",IntegerType(),False),\n",
    "                        StructField('genres', StringType(), nullable=False),\n",
    "                        StructField('homepage', StringType(), nullable=True),\n",
    "                        StructField('id', IntegerType(), nullable=False),\n",
    "                        StructField('keywords', StringType(), nullable=False),\n",
    "                        StructField('original_language', StringType(), nullable=False),\n",
    "                        StructField('original_title', StringType(), nullable=False),\n",
    "                        StructField('overview', StringType(), nullable=True),\n",
    "                        StructField('popularity', FloatType(), nullable=False),\n",
    "                        StructField('production_companies', StringType(), nullable=False),\n",
    "                        StructField('production_countries', StringType(),  nullable=True), \n",
    "                        StructField('release_date', DateType(), nullable=True),\n",
    "                        StructField('revenue', IntegerType(), nullable=False),\n",
    "                        StructField('runtime', StringType(),  nullable=True),\n",
    "                        StructField('spoken_languages', StringType(), nullable=False),\n",
    "                        StructField('status', StringType(), nullable=False),\n",
    "                        StructField('tagline', StringType(), nullable=True),\n",
    "                        StructField('title', StringType(), nullable=False),\n",
    "                        StructField('vote_average', FloatType(), nullable=False),\n",
    "                        StructField('vote_count', IntegerType(), nullable=False)])"
   ]
  },
  {
   "cell_type": "code",
   "execution_count": 5,
   "id": "e2df80bc-ec34-4f44-8e24-ae43c844e4a9",
   "metadata": {},
   "outputs": [],
   "source": [
    "#Reading the data from the HDFS an\n",
    "df = spark.read.csv(\"hdfs://localhost:9000/filmData.csv\", schema=TMDB_Schema ,header=True,quote='\"',escape='\"', multiLine=True)"
   ]
  },
  {
   "cell_type": "code",
   "execution_count": 6,
   "id": "851fc219-5caa-4403-9b97-7fa49a9ef1ba",
   "metadata": {},
   "outputs": [
    {
     "name": "stderr",
     "output_type": "stream",
     "text": [
      "                                                                                \r"
     ]
    },
    {
     "name": "stdout",
     "output_type": "stream",
     "text": [
      "+---------+--------------------+--------------------+------+--------------------+-----------------+--------------------+--------------------+----------+--------------------+--------------------+------------+----------+-------+--------------------+--------+--------------------+--------------------+------------+----------+\n",
      "|   budget|              genres|            homepage|    id|            keywords|original_language|      original_title|            overview|popularity|production_companies|production_countries|release_date|   revenue|runtime|    spoken_languages|  status|             tagline|               title|vote_average|vote_count|\n",
      "+---------+--------------------+--------------------+------+--------------------+-----------------+--------------------+--------------------+----------+--------------------+--------------------+------------+----------+-------+--------------------+--------+--------------------+--------------------+------------+----------+\n",
      "|237000000|[{\"id\": 28, \"name...|http://www.avatar...| 19995|[{\"id\": 1463, \"na...|               en|              Avatar|In the 22nd centu...| 150.43758|[{\"name\": \"Ingeni...|[{\"iso_3166_1\": \"...|  2009-12-10|      NULL|    162|[{\"iso_639_1\": \"e...|Released|Enter the World o...|              Avatar|         7.2|     11800|\n",
      "|300000000|[{\"id\": 12, \"name...|http://disney.go....|   285|[{\"id\": 270, \"nam...|               en|Pirates of the Ca...|Captain Barbossa,...| 139.08261|[{\"name\": \"Walt D...|[{\"iso_3166_1\": \"...|  2007-05-19| 961000000|    169|[{\"iso_639_1\": \"e...|Released|At the end of the...|Pirates of the Ca...|         6.9|      4500|\n",
      "|245000000|[{\"id\": 28, \"name...|http://www.sonypi...|206647|[{\"id\": 470, \"nam...|               en|             Spectre|A cryptic message...|107.376785|[{\"name\": \"Columb...|[{\"iso_3166_1\": \"...|  2015-10-26| 880674609|    148|[{\"iso_639_1\": \"f...|Released|A Plan No One Esc...|             Spectre|         6.3|      4466|\n",
      "|250000000|[{\"id\": 28, \"name...|http://www.thedar...| 49026|[{\"id\": 849, \"nam...|               en|The Dark Knight R...|Following the dea...| 112.31295|[{\"name\": \"Legend...|[{\"iso_3166_1\": \"...|  2012-07-16|1084939099|    165|[{\"iso_639_1\": \"e...|Released|     The Legend Ends|The Dark Knight R...|         7.6|      9106|\n",
      "|260000000|[{\"id\": 28, \"name...|http://movies.dis...| 49529|[{\"id\": 818, \"nam...|               en|         John Carter|John Carter is a ...| 43.926994|[{\"name\": \"Walt D...|[{\"iso_3166_1\": \"...|  2012-03-07| 284139100|    132|[{\"iso_639_1\": \"e...|Released|Lost in our world...|         John Carter|         6.1|      2124|\n",
      "+---------+--------------------+--------------------+------+--------------------+-----------------+--------------------+--------------------+----------+--------------------+--------------------+------------+----------+-------+--------------------+--------+--------------------+--------------------+------------+----------+\n",
      "only showing top 5 rows\n",
      "\n"
     ]
    }
   ],
   "source": [
    "#showing the first five rows to ensure the data have been read correctly \n",
    "df.show(5)"
   ]
  },
  {
   "cell_type": "markdown",
   "id": "f933ae10-79af-4726-9467-0b5e3d2b52f4",
   "metadata": {},
   "source": [
    "## 1. Finding The most popular film in each original language"
   ]
  },
  {
   "cell_type": "markdown",
   "id": "37366912-7465-42f8-b8d3-580a45f626c4",
   "metadata": {},
   "source": [
    "#### 1.1 Using SQL expression"
   ]
  },
  {
   "cell_type": "code",
   "execution_count": 7,
   "id": "3c5f87d9-d307-4de4-b84a-d4f7fedddecc",
   "metadata": {},
   "outputs": [],
   "source": [
    "df.createOrReplaceTempView('Popular_films')\n",
    "\n",
    "PopularFilms_df=spark.sql('''WITH CTE AS (\n",
    "    SELECT id, title, original_language,popularity, RANK() OVER(PARTITION BY original_language ORDER BY popularity desc) AS popularityInEachCategory\n",
    "    FROM Popular_films\n",
    ")\n",
    "SELECT original_language , id as Film_ID, title, popularity\n",
    "FROM CTE \n",
    "WHERE popularityInEachCategory = 1;''')"
   ]
  },
  {
   "cell_type": "code",
   "execution_count": 8,
   "id": "d1bb3179-699a-45ed-acd9-ede03994a63e",
   "metadata": {},
   "outputs": [
    {
     "name": "stderr",
     "output_type": "stream",
     "text": [
      "[Stage 3:>                                                          (0 + 1) / 1]\r"
     ]
    },
    {
     "name": "stdout",
     "output_type": "stream",
     "text": [
      "+-----------------+-------+------------------------------+----------+\n",
      "|original_language|Film_ID|title                         |popularity|\n",
      "+-----------------+-------+------------------------------+----------+\n",
      "|af               |868    |Tsotsi                        |2.504169  |\n",
      "|ar               |159037 |The Square                    |4.892203  |\n",
      "|cn               |365222 |Ip Man 3                      |19.167377 |\n",
      "|cs               |12555  |I Served the King of England  |2.387463  |\n",
      "|da               |9029   |What Happens in Vegas         |38.100487 |\n",
      "|de               |582    |The Lives of Others           |34.938175 |\n",
      "|el               |38810  |Dogtooth                      |28.858238 |\n",
      "|en               |211672 |Minions                       |875.5813  |\n",
      "|es               |1417   |Pan's Labyrinth               |90.80941  |\n",
      "|fa               |60243  |A Separation                  |12.049373 |\n",
      "|fr               |194    |Amélie                        |73.720245 |\n",
      "|he               |8885   |Waltz with Bashir             |14.08251  |\n",
      "|hi               |191714 |The Lunchbox                  |14.017809 |\n",
      "|hu               |41508  |Fateless                      |1.906807  |\n",
      "|id               |94329  |The Raid                      |40.285095 |\n",
      "|is               |217708 |Of Horses and Men             |1.617943  |\n",
      "|it               |429    |The Good, the Bad and the Ugly|88.377075 |\n",
      "|ja               |129    |Spirited Away                 |118.96856 |\n",
      "|ko               |110415 |Snowpiercer                   |64.238686 |\n",
      "|ky               |295914 |Queen of the Mountains        |0.077873  |\n",
      "+-----------------+-------+------------------------------+----------+\n",
      "only showing top 20 rows\n",
      "\n"
     ]
    },
    {
     "name": "stderr",
     "output_type": "stream",
     "text": [
      "                                                                                \r"
     ]
    }
   ],
   "source": [
    "PopularFilms_df.show(truncate=False)"
   ]
  },
  {
   "cell_type": "markdown",
   "id": "cfc683c9-36d8-4651-9016-10259d975ff0",
   "metadata": {},
   "source": [
    "#### 1.2 Using dataFrame Transformasions"
   ]
  },
  {
   "cell_type": "code",
   "execution_count": 9,
   "id": "f54e83e7-225e-4193-ac8d-4225c82c1db6",
   "metadata": {},
   "outputs": [],
   "source": [
    "from pyspark.sql.functions import max,first\n",
    "\n",
    "# Group by original_language and find the maximum popularity in each group\n",
    "max_popularity_df = df.groupBy(\"original_language\").agg(max(\"popularity\").alias(\"max_popularity\"),first(\"id\").alias(\"Film_id\"),first(\"title\").alias(\"Title\"))\n"
   ]
  },
  {
   "cell_type": "code",
   "execution_count": 10,
   "id": "577573d3-9773-4278-965e-29d75a65395e",
   "metadata": {},
   "outputs": [
    {
     "name": "stderr",
     "output_type": "stream",
     "text": [
      "[Stage 6:>                                                          (0 + 1) / 1]\r"
     ]
    },
    {
     "name": "stdout",
     "output_type": "stream",
     "text": [
      "+-----------------+--------------+-------+----------------------------+\n",
      "|original_language|max_popularity|Film_id|Title                       |\n",
      "+-----------------+--------------+-------+----------------------------+\n",
      "|af               |2.504169      |868    |Tsotsi                      |\n",
      "|ar               |4.892203      |159037 |The Square                  |\n",
      "|cn               |19.167377     |365222 |Ip Man 3                    |\n",
      "|cs               |2.387463      |357837 |Dancin' It's On             |\n",
      "|da               |38.100487     |1951   |Manderlay                   |\n",
      "|de               |34.938175     |53953  |The Tooth Fairy             |\n",
      "|el               |28.858238     |38810  |Dogtooth                    |\n",
      "|en               |875.5813      |19995  |Avatar                      |\n",
      "|es               |90.80941      |293644 |Top Cat Begins              |\n",
      "|fa               |12.049373     |60421  |Circumstance                |\n",
      "|fr               |73.720245     |2395   |Asterix at the Olympic Games|\n",
      "|he               |14.08251      |8885   |Waltz with Bashir           |\n",
      "|hi               |14.017809     |7504   |Earth                       |\n",
      "|hu               |1.906807      |41508  |Fateless                    |\n",
      "|id               |40.285095     |94329  |The Raid                    |\n",
      "|is               |1.617943      |217708 |Of Horses and Men           |\n",
      "|it               |88.377075     |16340  |Rugrats in Paris: The Movie |\n",
      "|ja               |118.96856     |315011 |Shin Godzilla               |\n",
      "|ko               |64.238686     |110415 |Snowpiercer                 |\n",
      "|ky               |0.077873      |295914 |Queen of the Mountains      |\n",
      "+-----------------+--------------+-------+----------------------------+\n",
      "only showing top 20 rows\n",
      "\n"
     ]
    },
    {
     "name": "stderr",
     "output_type": "stream",
     "text": [
      "                                                                                \r"
     ]
    }
   ],
   "source": [
    "max_popularity_df.show(truncate=False)"
   ]
  },
  {
   "cell_type": "markdown",
   "id": "c1b47bc5-9103-42ea-bf4e-774897085102",
   "metadata": {},
   "source": [
    "#### Save the result of the most Popular films"
   ]
  },
  {
   "cell_type": "code",
   "execution_count": 11,
   "id": "020e2282-9901-4d94-b6f5-181bbdafeeaa",
   "metadata": {},
   "outputs": [
    {
     "name": "stderr",
     "output_type": "stream",
     "text": [
      "                                                                                \r"
     ]
    }
   ],
   "source": [
    "# Save PySpark DataFrame to a CSV file locally\n",
    "PopularFilms_df.coalesce(1).write.csv('file:///usr/local/spark/popular_film_per_lan.csv', header=True, mode='overwrite')"
   ]
  },
  {
   "cell_type": "markdown",
   "id": "9c98d860-c516-4330-b2c8-e3a064fd9f73",
   "metadata": {},
   "source": [
    "## 2. Create a pre-aggregated table for the genres using PySpark."
   ]
  },
  {
   "cell_type": "code",
   "execution_count": 12,
   "id": "d0b8aa1e-5d85-414f-a5c1-c44a274be5a0",
   "metadata": {},
   "outputs": [
    {
     "name": "stdout",
     "output_type": "stream",
     "text": [
      "+--------------------------------------------------------------------------------------------------------------------------------------+\n",
      "|genres                                                                                                                                |\n",
      "+--------------------------------------------------------------------------------------------------------------------------------------+\n",
      "|[{\"id\": 28, \"name\": \"Action\"}, {\"id\": 12, \"name\": \"Adventure\"}, {\"id\": 14, \"name\": \"Fantasy\"}, {\"id\": 878, \"name\": \"Science Fiction\"}]|\n",
      "|[{\"id\": 12, \"name\": \"Adventure\"}, {\"id\": 14, \"name\": \"Fantasy\"}, {\"id\": 28, \"name\": \"Action\"}]                                        |\n",
      "|[{\"id\": 28, \"name\": \"Action\"}, {\"id\": 12, \"name\": \"Adventure\"}, {\"id\": 80, \"name\": \"Crime\"}]                                          |\n",
      "+--------------------------------------------------------------------------------------------------------------------------------------+\n",
      "only showing top 3 rows\n",
      "\n"
     ]
    }
   ],
   "source": [
    "#show the json colomn to ensure the column has been defined correctly\n",
    "df.select('genres').show(3,truncate=False)"
   ]
  },
  {
   "cell_type": "code",
   "execution_count": 13,
   "id": "9e210e28-bc21-4f21-9692-fea01f4e8a4c",
   "metadata": {},
   "outputs": [],
   "source": [
    "from pyspark.sql.functions import from_json, col\n",
    "from pyspark.sql.types import ArrayType\n",
    "\n",
    "# Define the schema for the JSON strings\n",
    "schema = ArrayType(StructType([\n",
    "    StructField(\"id\", IntegerType(), True),\n",
    "    StructField(\"name\", StringType(), True)\n",
    "]))"
   ]
  },
  {
   "cell_type": "code",
   "execution_count": 14,
   "id": "34e11bef-4ffe-43f2-a3a9-b5ea5431335d",
   "metadata": {},
   "outputs": [],
   "source": [
    "# Apply the transformation ,that make a column with a  Array struct type\n",
    "df = df.withColumn(\"genres_array\", from_json(col(\"genres\"), schema))"
   ]
  },
  {
   "cell_type": "code",
   "execution_count": 15,
   "id": "7f1a1b04-c4c2-4c8e-8d03-c77845b7b020",
   "metadata": {},
   "outputs": [
    {
     "name": "stdout",
     "output_type": "stream",
     "text": [
      "+--------------------------------------------------------------------------------------------------------------------------------------+----------------------------------------------------------------------+\n",
      "|genres                                                                                                                                |genres_array                                                          |\n",
      "+--------------------------------------------------------------------------------------------------------------------------------------+----------------------------------------------------------------------+\n",
      "|[{\"id\": 28, \"name\": \"Action\"}, {\"id\": 12, \"name\": \"Adventure\"}, {\"id\": 14, \"name\": \"Fantasy\"}, {\"id\": 878, \"name\": \"Science Fiction\"}]|[{28, Action}, {12, Adventure}, {14, Fantasy}, {878, Science Fiction}]|\n",
      "+--------------------------------------------------------------------------------------------------------------------------------------+----------------------------------------------------------------------+\n",
      "only showing top 1 row\n",
      "\n"
     ]
    },
    {
     "name": "stderr",
     "output_type": "stream",
     "text": [
      "                                                                                \r"
     ]
    }
   ],
   "source": [
    "df.select(\"genres\",\"genres_array\").show(1,truncate=False)"
   ]
  },
  {
   "cell_type": "code",
   "execution_count": 16,
   "id": "e655d5eb-b076-4528-bfed-8df6e1379b08",
   "metadata": {},
   "outputs": [
    {
     "name": "stdout",
     "output_type": "stream",
     "text": [
      "+----------------------+\n",
      "|genre                 |\n",
      "+----------------------+\n",
      "|{28, Action}          |\n",
      "|{12, Adventure}       |\n",
      "|{14, Fantasy}         |\n",
      "|{878, Science Fiction}|\n",
      "|{12, Adventure}       |\n",
      "+----------------------+\n",
      "only showing top 5 rows\n",
      "\n"
     ]
    }
   ],
   "source": [
    "from pyspark.sql.functions import explode\n",
    "\n",
    "# Explode the array to create a new row for each genre\n",
    "df_expanded = df.select(explode(\"genres_array\").alias(\"genre\"))\n",
    "df_expanded.show(5,truncate=False)"
   ]
  },
  {
   "cell_type": "code",
   "execution_count": 17,
   "id": "ee194733-ee0f-4a85-9577-f0ab087f7edb",
   "metadata": {},
   "outputs": [],
   "source": [
    "#seprate the elements of genres_array(genre) column into seperated columns\n",
    "df_expanded =df_expanded.withColumn(\"genre_id\",df_expanded['genre.id']).withColumn(\"genre_name\",df_expanded['genre.name'])"
   ]
  },
  {
   "cell_type": "code",
   "execution_count": 18,
   "id": "b2b622c1-20de-4d57-8c14-61efaefff191",
   "metadata": {},
   "outputs": [
    {
     "name": "stderr",
     "output_type": "stream",
     "text": [
      "[Stage 13:>                                                         (0 + 1) / 1]\r"
     ]
    },
    {
     "name": "stdout",
     "output_type": "stream",
     "text": [
      "+--------+---------------+-----------------------------+\n",
      "|genre_id|     genre_name|No_of_Films_contain_This_Type|\n",
      "+--------+---------------+-----------------------------+\n",
      "|     878|Science Fiction|                          535|\n",
      "|      28|         Action|                         1154|\n",
      "|      35|         Comedy|                         1722|\n",
      "|    9648|        Mystery|                          348|\n",
      "|   10769|        Foreign|                           34|\n",
      "|      36|        History|                          197|\n",
      "|      27|         Horror|                          519|\n",
      "|   10751|         Family|                          513|\n",
      "|      16|      Animation|                          234|\n",
      "|      18|          Drama|                         2297|\n",
      "|   10749|        Romance|                          894|\n",
      "|      14|        Fantasy|                          424|\n",
      "|   10770|       TV Movie|                            8|\n",
      "|      37|        Western|                           82|\n",
      "|   10752|            War|                          144|\n",
      "|      53|       Thriller|                         1274|\n",
      "|      99|    Documentary|                          110|\n",
      "|      12|      Adventure|                          790|\n",
      "|      80|          Crime|                          696|\n",
      "|   10402|          Music|                          185|\n",
      "+--------+---------------+-----------------------------+\n",
      "\n"
     ]
    },
    {
     "name": "stderr",
     "output_type": "stream",
     "text": [
      "                                                                                \r"
     ]
    }
   ],
   "source": [
    "genre_counts =df_expanded.select(\"genre_id\",\"genre_name\").groupBy(\"genre_id\",\"genre_name\").count().withColumnRenamed(\"count\",\"No_of_Films_contain_This_Type\")\n",
    "genre_counts.show()"
   ]
  },
  {
   "cell_type": "markdown",
   "id": "35b48eef-9123-400a-a90d-897d1ded5253",
   "metadata": {},
   "source": [
    "### Save the results of genres aggregations"
   ]
  },
  {
   "cell_type": "code",
   "execution_count": 19,
   "id": "94865b79-2023-4ac4-9b68-3dfc0447f63e",
   "metadata": {},
   "outputs": [
    {
     "name": "stderr",
     "output_type": "stream",
     "text": [
      "                                                                                \r"
     ]
    }
   ],
   "source": [
    "# Write the result to a new CSV file on HDFS.\n",
    "genre_counts.write.csv(\"hdfs://localhost:9000//Genres_Aggregations.csv\", header=True)"
   ]
  },
  {
   "cell_type": "markdown",
   "id": "85a4152e-e5f5-49f5-9231-106d41949069",
   "metadata": {},
   "source": [
    "# **<center>The End</center>**"
   ]
  }
 ],
 "metadata": {
  "kernelspec": {
   "display_name": "Python 3 (ipykernel)",
   "language": "python",
   "name": "python3"
  },
  "language_info": {
   "codemirror_mode": {
    "name": "ipython",
    "version": 3
   },
   "file_extension": ".py",
   "mimetype": "text/x-python",
   "name": "python",
   "nbconvert_exporter": "python",
   "pygments_lexer": "ipython3",
   "version": "3.10.12"
  }
 },
 "nbformat": 4,
 "nbformat_minor": 5
}
